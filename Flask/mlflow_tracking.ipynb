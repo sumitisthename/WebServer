import mlflow

mlflow.set_tracking_uri("http://localhost:5000")

mlflow.set_experiment("Check local host tracking")

with mlflow.start_run():
    mlflow.log_metric('test1', 1)
    mlflow.log_metric('Sumit1', 2)

with mlflow.start_run():
    mlflow.log_metric('test2', 1)
    mlflow.log_metric('Sumit2', 2)

with mlflow.start_run():
    mlflow.log_metric('test3', 1)
    mlflow.log_metric('Sumit3', 2)